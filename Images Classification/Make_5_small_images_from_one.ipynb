{
 "cells": [
  {
   "cell_type": "code",
   "execution_count": 1,
   "metadata": {
    "collapsed": true
   },
   "outputs": [],
   "source": [
    "import numpy as np\n",
    "import os\n",
    "import math\n",
    "\n",
    "import skimage\n",
    "from skimage.io import imread, imsave\n",
    "from skimage.transform import resize\n",
    "\n",
    "from collections import Counter"
   ]
  },
  {
   "cell_type": "code",
   "execution_count": 7,
   "metadata": {
    "collapsed": true
   },
   "outputs": [],
   "source": [
    "image_1 = imread(\"D:/svruchtel/DATA/03_France_ByShape/A4/00114.jpg\")\n",
    "image_2 = imread(\"D:/svruchtel/DATA/03_France_ByShape/Ticket/00017.jpg\")"
   ]
  },
  {
   "cell_type": "code",
   "execution_count": 8,
   "metadata": {
    "collapsed": false
   },
   "outputs": [
    {
     "name": "stdout",
     "output_type": "stream",
     "text": [
      "(1024, 576, 4)\n",
      "(768, 1024, 4)\n"
     ]
    }
   ],
   "source": [
    "print(image_1.shape)\n",
    "print(image_2.shape)"
   ]
  },
  {
   "cell_type": "code",
   "execution_count": 25,
   "metadata": {
    "collapsed": true
   },
   "outputs": [],
   "source": [
    "# to solve blue pictures problem\n",
    "image_1 = image_1[:, :, :3]\n",
    "image_2 = image_2[:, :, :3]"
   ]
  },
  {
   "cell_type": "code",
   "execution_count": 26,
   "metadata": {
    "collapsed": false
   },
   "outputs": [
    {
     "name": "stdout",
     "output_type": "stream",
     "text": [
      "(1024, 576, 3)\n",
      "(768, 1024, 3)\n"
     ]
    }
   ],
   "source": [
    "print(image_1.shape)\n",
    "print(image_2.shape)"
   ]
  },
  {
   "cell_type": "code",
   "execution_count": 27,
   "metadata": {
    "collapsed": true
   },
   "outputs": [],
   "source": [
    "image = image_1"
   ]
  },
  {
   "cell_type": "code",
   "execution_count": 28,
   "metadata": {
    "collapsed": false
   },
   "outputs": [
    {
     "name": "stdout",
     "output_type": "stream",
     "text": [
      "1024\n",
      "576\n"
     ]
    }
   ],
   "source": [
    "larger_side = max(image.shape[:2])\n",
    "smaller_side = min(image.shape[:2])\n",
    "print(larger_side)\n",
    "print(smaller_side)"
   ]
  },
  {
   "cell_type": "code",
   "execution_count": 29,
   "metadata": {
    "collapsed": true
   },
   "outputs": [],
   "source": [
    "square_size = 128"
   ]
  },
  {
   "cell_type": "code",
   "execution_count": null,
   "metadata": {
    "collapsed": true
   },
   "outputs": [],
   "source": []
  },
  {
   "cell_type": "code",
   "execution_count": 30,
   "metadata": {
    "collapsed": false
   },
   "outputs": [
    {
     "name": "stdout",
     "output_type": "stream",
     "text": [
      "4.0\n"
     ]
    }
   ],
   "source": [
    "proportion = larger_side / (square_size * 2)\n",
    "print(proportion)"
   ]
  },
  {
   "cell_type": "code",
   "execution_count": 31,
   "metadata": {
    "collapsed": true
   },
   "outputs": [],
   "source": [
    "if (smaller_side / proportion) < square_size:\n",
    "    proportion = smaller_side / (square_size * 2)"
   ]
  },
  {
   "cell_type": "code",
   "execution_count": 32,
   "metadata": {
    "collapsed": false
   },
   "outputs": [
    {
     "name": "stderr",
     "output_type": "stream",
     "text": [
      "C:\\Program Files\\Anaconda3\\lib\\site-packages\\skimage\\transform\\_warps.py:84: UserWarning: The default mode, 'constant', will be changed to 'reflect' in skimage 0.15.\n",
      "  warn(\"The default mode, 'constant', will be changed to 'reflect' in \"\n"
     ]
    }
   ],
   "source": [
    "image = resize(image, (larger_side / proportion, smaller_side / proportion, 3))"
   ]
  },
  {
   "cell_type": "code",
   "execution_count": 33,
   "metadata": {
    "collapsed": false
   },
   "outputs": [
    {
     "data": {
      "text/plain": [
       "(256, 144, 3)"
      ]
     },
     "execution_count": 33,
     "metadata": {},
     "output_type": "execute_result"
    }
   ],
   "source": [
    "image.shape"
   ]
  },
  {
   "cell_type": "code",
   "execution_count": 74,
   "metadata": {
    "collapsed": true
   },
   "outputs": [],
   "source": [
    "left_top_corner = image[:square_size, :square_size, :]\n",
    "right_top_corner = image[:square_size, -square_size:, :]\n",
    "left_bottom_corner = image[-square_size:, :square_size, :]\n",
    "right_bottom_corner = image[-square_size:, -square_size:, :]\n",
    "\n",
    "center_row = image.shape[0] / 2\n",
    "center_col = image.shape[1] / 2\n",
    "center_img = image[int(center_row - square_size / 2):int(center_row + square_size / 2),\n",
    "                     int(center_col - square_size / 2):int(center_col + square_size / 2), :]\n"
   ]
  },
  {
   "cell_type": "code",
   "execution_count": 79,
   "metadata": {
    "collapsed": false
   },
   "outputs": [
    {
     "name": "stdout",
     "output_type": "stream",
     "text": [
      "(128, 128, 3)\n"
     ]
    }
   ],
   "source": [
    "print(center_img.shape)"
   ]
  },
  {
   "cell_type": "code",
   "execution_count": 81,
   "metadata": {
    "collapsed": false
   },
   "outputs": [
    {
     "name": "stderr",
     "output_type": "stream",
     "text": [
      "C:\\Program Files\\Anaconda3\\lib\\site-packages\\skimage\\util\\dtype.py:122: UserWarning: Possible precision loss when converting from float64 to uint8\n",
      "  .format(dtypeobj_in, dtypeobj_out))\n"
     ]
    }
   ],
   "source": [
    "left_top_file_path = \"D:/svruchtel/tmp/left_top/00114.jpg\"\n",
    "imsave(left_top_file_path, left_top_corner)\n",
    "\n",
    "right_top_file_path = \"D:/svruchtel/tmp/right_top/00114.jpg\"\n",
    "imsave(right_top_file_path, right_top_corner)\n",
    "\n",
    "left_bottom_file_path = \"D:/svruchtel/tmp/left_bottom/00114.jpg\"\n",
    "imsave(left_bottom_file_path, left_bottom_corner)\n",
    "\n",
    "right_bottom_file_path = \"D:/svruchtel/tmp/right_bottom/00114.jpg\"\n",
    "imsave(right_bottom_file_path, right_bottom_corner)\n",
    "\n",
    "center_img_file_path = \"D:/svruchtel/tmp/center/00114.jpg\"\n",
    "imsave(center_img_file_path, center_img)\n"
   ]
  },
  {
   "cell_type": "code",
   "execution_count": null,
   "metadata": {
    "collapsed": true
   },
   "outputs": [],
   "source": []
  },
  {
   "cell_type": "code",
   "execution_count": null,
   "metadata": {
    "collapsed": true
   },
   "outputs": [],
   "source": []
  },
  {
   "cell_type": "code",
   "execution_count": 100,
   "metadata": {
    "collapsed": true
   },
   "outputs": [],
   "source": [
    "# let's try to load and divide dataset\n",
    "\n",
    "def divide_one_image_to_5(image, square_size):\n",
    "    \"\"\"\n",
    "    image should be in .jpeg or .jpg extension\n",
    "    \"\"\"\n",
    "    # if image is gray - convert it to rgb\n",
    "    if len(image.shape) < 3:\n",
    "        image = skimage.color.gray2rgb(image)\n",
    "        \n",
    "    # to solve blue pictures problem\n",
    "    image = image[:, :, :3]\n",
    "    \n",
    "    larger_side = max(image.shape[:2])\n",
    "    smaller_side = min(image.shape[:2])\n",
    "\n",
    "    proportion = larger_side / (square_size * 2)\n",
    "    if (smaller_side / proportion) < square_size:\n",
    "        proportion = smaller_side / (square_size * 2)\n",
    "    \n",
    "    image = resize(image, (int(larger_side / proportion), int(smaller_side / proportion), 3))\n",
    "    \n",
    "    left_top_corner = image[:square_size, :square_size, :]\n",
    "    right_top_corner = image[:square_size, -square_size:, :]\n",
    "    left_bottom_corner = image[-square_size:, :square_size, :]\n",
    "    right_bottom_corner = image[-square_size:, -square_size:, :]\n",
    "\n",
    "    center_row = image.shape[0] / 2\n",
    "    center_col = image.shape[1] / 2\n",
    "    center_img = image[int(center_row - square_size / 2):int(center_row + square_size / 2),\n",
    "                     int(center_col - square_size / 2):int(center_col + square_size / 2), :]\n",
    "    \n",
    "    return left_top_corner, right_top_corner, left_bottom_corner, right_bottom_corner, center_img\n",
    "        \n",
    "    \n",
    "def make_5_images_for_all_dataset(source_directory, target_directory, square_size):\n",
    "    for root, dirs, files in os.walk(source_directory):\n",
    "        for name in files:\n",
    "            \n",
    "            file_path = os.path.join(root, name)\n",
    "            \n",
    "            image = imread(file_path)\n",
    "    \n",
    "            left_top, right_top, left_bottom, right_bottom, center_img = divide_one_image_to_5(image, square_size)\n",
    "        \n",
    "            _, category_folder_name = os.path.split(root)\n",
    "            \n",
    "            category_folder_path = os.path.join(target_directory, category_folder_name)\n",
    "            # create this folder in target_directory\n",
    "            if not os.path.exists(category_folder_path):\n",
    "                    try:\n",
    "                        os.makedirs(category_folder_path)\n",
    "                    except:\n",
    "                        print(\"CANNOT CREATE DIRECTORY\")\n",
    "                        break\n",
    "                        \n",
    "            # than create 5 more folders in this new folder\n",
    "            new_dirs = [\"left_top\", \"right_top\", \"left_bottom\", \"right_bottom\", \"center\"]\n",
    "            \n",
    "            for new_dir in new_dirs:\n",
    "                new_dir_path = os.path.join(category_folder_path, new_dir)\n",
    "                if not os.path.exists(new_dir_path):\n",
    "                    try:\n",
    "                        os.makedirs(new_dir_path)\n",
    "                    except:\n",
    "                        print(\"CANNOT CREATE DIRECTORY\")\n",
    "                        break\n",
    "                        \n",
    "            lt_path = os.path.join(os.path.join(category_folder_path, new_dirs[0]), name)\n",
    "            imsave(lt_path, left_top)\n",
    "            rt_path = os.path.join(os.path.join(category_folder_path, new_dirs[1]), name)\n",
    "            imsave(rt_path, right_top)\n",
    "            lb_path = os.path.join(os.path.join(category_folder_path, new_dirs[2]), name)\n",
    "            imsave(lb_path, left_bottom)\n",
    "            rb_path = os.path.join(os.path.join(category_folder_path, new_dirs[3]), name)\n",
    "            imsave(rb_path, right_bottom)\n",
    "            ct_path = os.path.join(os.path.join(category_folder_path, new_dirs[4]), name)\n",
    "            imsave(ct_path, center_img)\n",
    "            "
   ]
  },
  {
   "cell_type": "code",
   "execution_count": 101,
   "metadata": {
    "collapsed": false
   },
   "outputs": [
    {
     "name": "stderr",
     "output_type": "stream",
     "text": [
      "C:\\Program Files\\Anaconda3\\lib\\site-packages\\skimage\\transform\\_warps.py:84: UserWarning: The default mode, 'constant', will be changed to 'reflect' in skimage 0.15.\n",
      "  warn(\"The default mode, 'constant', will be changed to 'reflect' in \"\n",
      "C:\\Program Files\\Anaconda3\\lib\\site-packages\\skimage\\util\\dtype.py:122: UserWarning: Possible precision loss when converting from float64 to uint8\n",
      "  .format(dtypeobj_in, dtypeobj_out))\n"
     ]
    }
   ],
   "source": [
    "make_5_images_for_all_dataset(\"D:/svruchtel/make_5_source\", \"D:/svruchtel/make_5_target\", 128)"
   ]
  },
  {
   "cell_type": "code",
   "execution_count": null,
   "metadata": {
    "collapsed": true
   },
   "outputs": [],
   "source": []
  },
  {
   "cell_type": "code",
   "execution_count": 102,
   "metadata": {
    "collapsed": false
   },
   "outputs": [
    {
     "name": "stderr",
     "output_type": "stream",
     "text": [
      "C:\\Program Files\\Anaconda3\\lib\\site-packages\\skimage\\transform\\_warps.py:84: UserWarning: The default mode, 'constant', will be changed to 'reflect' in skimage 0.15.\n",
      "  warn(\"The default mode, 'constant', will be changed to 'reflect' in \"\n",
      "C:\\Program Files\\Anaconda3\\lib\\site-packages\\skimage\\util\\dtype.py:122: UserWarning: Possible precision loss when converting from float64 to uint8\n",
      "  .format(dtypeobj_in, dtypeobj_out))\n",
      "C:\\Program Files\\Anaconda3\\lib\\site-packages\\skimage\\io\\_io.py:129: UserWarning: D:/svruchtel/PREPROCESSED_DATA/France_New_ByShape_128_3dim\\Ticket\\left_top\\003699.jpg is a low contrast image\n",
      "  warn('%s is a low contrast image' % fname)\n",
      "C:\\Program Files\\Anaconda3\\lib\\site-packages\\skimage\\io\\_io.py:129: UserWarning: D:/svruchtel/PREPROCESSED_DATA/France_New_ByShape_128_3dim\\Ticket\\left_top\\003716.jpg is a low contrast image\n",
      "  warn('%s is a low contrast image' % fname)\n",
      "C:\\Program Files\\Anaconda3\\lib\\site-packages\\skimage\\io\\_io.py:129: UserWarning: D:/svruchtel/PREPROCESSED_DATA/France_New_ByShape_128_3dim\\Ticket\\right_top\\003716.jpg is a low contrast image\n",
      "  warn('%s is a low contrast image' % fname)\n",
      "C:\\Program Files\\Anaconda3\\lib\\site-packages\\skimage\\io\\_io.py:129: UserWarning: D:/svruchtel/PREPROCESSED_DATA/France_New_ByShape_128_3dim\\Ticket\\left_top\\003718.jpg is a low contrast image\n",
      "  warn('%s is a low contrast image' % fname)\n",
      "C:\\Program Files\\Anaconda3\\lib\\site-packages\\skimage\\io\\_io.py:129: UserWarning: D:/svruchtel/PREPROCESSED_DATA/France_New_ByShape_128_3dim\\Ticket\\right_top\\003718.jpg is a low contrast image\n",
      "  warn('%s is a low contrast image' % fname)\n"
     ]
    },
    {
     "name": "stdout",
     "output_type": "stream",
     "text": [
      "Wall time: 28min 41s\n"
     ]
    }
   ],
   "source": [
    "%%time\n",
    "\n",
    "# the function seems to be ready, let's try to work with it\n",
    "make_5_images_for_all_dataset(source_directory=\"D:/svruchtel/DATA/France_New_ByShape\",\n",
    "                             target_directory=\"D:/svruchtel/PREPROCESSED_DATA/France_New_ByShape_128_3dim\",\n",
    "                             square_size=128)\n"
   ]
  },
  {
   "cell_type": "code",
   "execution_count": 103,
   "metadata": {
    "collapsed": false
   },
   "outputs": [
    {
     "name": "stdout",
     "output_type": "stream",
     "text": [
      "(128, 128, 3)\n"
     ]
    }
   ],
   "source": [
    "img_test = imread(\"D:/svruchtel/PREPROCESSED_DATA/France_New_ByShape_128_3dim/Ticket/center/000455.jpg\")\n",
    "print(img_test.shape)"
   ]
  },
  {
   "cell_type": "code",
   "execution_count": 104,
   "metadata": {
    "collapsed": false
   },
   "outputs": [
    {
     "name": "stderr",
     "output_type": "stream",
     "text": [
      "C:\\Program Files\\Anaconda3\\lib\\site-packages\\skimage\\transform\\_warps.py:84: UserWarning: The default mode, 'constant', will be changed to 'reflect' in skimage 0.15.\n",
      "  warn(\"The default mode, 'constant', will be changed to 'reflect' in \"\n",
      "C:\\Program Files\\Anaconda3\\lib\\site-packages\\skimage\\util\\dtype.py:122: UserWarning: Possible precision loss when converting from float64 to uint8\n",
      "  .format(dtypeobj_in, dtypeobj_out))\n",
      "C:\\Program Files\\Anaconda3\\lib\\site-packages\\skimage\\io\\_io.py:129: UserWarning: D:/svruchtel/PREPROCESSED_DATA/France_New_ByShape_224_3dim\\Ticket\\left_top\\003716.jpg is a low contrast image\n",
      "  warn('%s is a low contrast image' % fname)\n",
      "C:\\Program Files\\Anaconda3\\lib\\site-packages\\skimage\\io\\_io.py:129: UserWarning: D:/svruchtel/PREPROCESSED_DATA/France_New_ByShape_224_3dim\\Ticket\\right_top\\003716.jpg is a low contrast image\n",
      "  warn('%s is a low contrast image' % fname)\n",
      "C:\\Program Files\\Anaconda3\\lib\\site-packages\\skimage\\io\\_io.py:129: UserWarning: D:/svruchtel/PREPROCESSED_DATA/France_New_ByShape_224_3dim\\Ticket\\left_top\\003718.jpg is a low contrast image\n",
      "  warn('%s is a low contrast image' % fname)\n",
      "C:\\Program Files\\Anaconda3\\lib\\site-packages\\skimage\\io\\_io.py:129: UserWarning: D:/svruchtel/PREPROCESSED_DATA/France_New_ByShape_224_3dim\\Ticket\\right_top\\003718.jpg is a low contrast image\n",
      "  warn('%s is a low contrast image' % fname)\n"
     ]
    },
    {
     "name": "stdout",
     "output_type": "stream",
     "text": [
      "Wall time: 41min 58s\n"
     ]
    }
   ],
   "source": [
    "%%time\n",
    "\n",
    "# the function seems to be ready, let's try to work with it\n",
    "make_5_images_for_all_dataset(source_directory=\"D:/svruchtel/DATA/France_New_ByShape\",\n",
    "                             target_directory=\"D:/svruchtel/PREPROCESSED_DATA/France_New_ByShape_224_3dim\",\n",
    "                             square_size=224)"
   ]
  },
  {
   "cell_type": "code",
   "execution_count": 105,
   "metadata": {
    "collapsed": false
   },
   "outputs": [
    {
     "name": "stdout",
     "output_type": "stream",
     "text": [
      "(224, 224, 3)\n"
     ]
    }
   ],
   "source": [
    "img_test = imread(\"D:/svruchtel/PREPROCESSED_DATA/France_New_ByShape_224_3dim/Ticket/center/000455.jpg\")\n",
    "print(img_test.shape)"
   ]
  },
  {
   "cell_type": "code",
   "execution_count": 106,
   "metadata": {
    "collapsed": false
   },
   "outputs": [
    {
     "name": "stderr",
     "output_type": "stream",
     "text": [
      "C:\\Program Files\\Anaconda3\\lib\\site-packages\\skimage\\transform\\_warps.py:84: UserWarning: The default mode, 'constant', will be changed to 'reflect' in skimage 0.15.\n",
      "  warn(\"The default mode, 'constant', will be changed to 'reflect' in \"\n",
      "C:\\Program Files\\Anaconda3\\lib\\site-packages\\skimage\\util\\dtype.py:122: UserWarning: Possible precision loss when converting from float64 to uint8\n",
      "  .format(dtypeobj_in, dtypeobj_out))\n",
      "C:\\Program Files\\Anaconda3\\lib\\site-packages\\skimage\\io\\_io.py:129: UserWarning: D:/svruchtel/PREPROCESSED_DATA/France_New_ByMeaning_128_3dim\\Transport\\left_top\\003699.jpg is a low contrast image\n",
      "  warn('%s is a low contrast image' % fname)\n",
      "C:\\Program Files\\Anaconda3\\lib\\site-packages\\skimage\\io\\_io.py:129: UserWarning: D:/svruchtel/PREPROCESSED_DATA/France_New_ByMeaning_128_3dim\\Transport\\left_top\\003716.jpg is a low contrast image\n",
      "  warn('%s is a low contrast image' % fname)\n",
      "C:\\Program Files\\Anaconda3\\lib\\site-packages\\skimage\\io\\_io.py:129: UserWarning: D:/svruchtel/PREPROCESSED_DATA/France_New_ByMeaning_128_3dim\\Transport\\right_top\\003716.jpg is a low contrast image\n",
      "  warn('%s is a low contrast image' % fname)\n",
      "C:\\Program Files\\Anaconda3\\lib\\site-packages\\skimage\\io\\_io.py:129: UserWarning: D:/svruchtel/PREPROCESSED_DATA/France_New_ByMeaning_128_3dim\\Transport\\left_top\\003718.jpg is a low contrast image\n",
      "  warn('%s is a low contrast image' % fname)\n",
      "C:\\Program Files\\Anaconda3\\lib\\site-packages\\skimage\\io\\_io.py:129: UserWarning: D:/svruchtel/PREPROCESSED_DATA/France_New_ByMeaning_128_3dim\\Transport\\right_top\\003718.jpg is a low contrast image\n",
      "  warn('%s is a low contrast image' % fname)\n"
     ]
    },
    {
     "name": "stdout",
     "output_type": "stream",
     "text": [
      "Wall time: 26min 51s\n"
     ]
    }
   ],
   "source": [
    "%%time\n",
    "\n",
    "# the function seems to be ready, let's try to work with it\n",
    "make_5_images_for_all_dataset(source_directory=\"D:/svruchtel/DATA/France_New_ByMeaning\",\n",
    "                             target_directory=\"D:/svruchtel/PREPROCESSED_DATA/France_New_ByMeaning_128_3dim\",\n",
    "                             square_size=128)"
   ]
  },
  {
   "cell_type": "code",
   "execution_count": 107,
   "metadata": {
    "collapsed": false
   },
   "outputs": [
    {
     "name": "stderr",
     "output_type": "stream",
     "text": [
      "C:\\Program Files\\Anaconda3\\lib\\site-packages\\skimage\\transform\\_warps.py:84: UserWarning: The default mode, 'constant', will be changed to 'reflect' in skimage 0.15.\n",
      "  warn(\"The default mode, 'constant', will be changed to 'reflect' in \"\n",
      "C:\\Program Files\\Anaconda3\\lib\\site-packages\\skimage\\util\\dtype.py:122: UserWarning: Possible precision loss when converting from float64 to uint8\n",
      "  .format(dtypeobj_in, dtypeobj_out))\n",
      "C:\\Program Files\\Anaconda3\\lib\\site-packages\\skimage\\io\\_io.py:129: UserWarning: D:/svruchtel/PREPROCESSED_DATA/France_New_ByMeaning_224_3dim\\Transport\\left_top\\003716.jpg is a low contrast image\n",
      "  warn('%s is a low contrast image' % fname)\n",
      "C:\\Program Files\\Anaconda3\\lib\\site-packages\\skimage\\io\\_io.py:129: UserWarning: D:/svruchtel/PREPROCESSED_DATA/France_New_ByMeaning_224_3dim\\Transport\\right_top\\003716.jpg is a low contrast image\n",
      "  warn('%s is a low contrast image' % fname)\n",
      "C:\\Program Files\\Anaconda3\\lib\\site-packages\\skimage\\io\\_io.py:129: UserWarning: D:/svruchtel/PREPROCESSED_DATA/France_New_ByMeaning_224_3dim\\Transport\\left_top\\003718.jpg is a low contrast image\n",
      "  warn('%s is a low contrast image' % fname)\n",
      "C:\\Program Files\\Anaconda3\\lib\\site-packages\\skimage\\io\\_io.py:129: UserWarning: D:/svruchtel/PREPROCESSED_DATA/France_New_ByMeaning_224_3dim\\Transport\\right_top\\003718.jpg is a low contrast image\n",
      "  warn('%s is a low contrast image' % fname)\n"
     ]
    },
    {
     "name": "stdout",
     "output_type": "stream",
     "text": [
      "Wall time: 37min 58s\n"
     ]
    }
   ],
   "source": [
    "%%time\n",
    "\n",
    "# the function seems to be ready, let's try to work with it\n",
    "make_5_images_for_all_dataset(source_directory=\"D:/svruchtel/DATA/France_New_ByMeaning\",\n",
    "                             target_directory=\"D:/svruchtel/PREPROCESSED_DATA/France_New_ByMeaning_224_3dim\",\n",
    "                             square_size=224)"
   ]
  },
  {
   "cell_type": "code",
   "execution_count": 108,
   "metadata": {
    "collapsed": false
   },
   "outputs": [
    {
     "name": "stderr",
     "output_type": "stream",
     "text": [
      "C:\\Program Files\\Anaconda3\\lib\\site-packages\\skimage\\transform\\_warps.py:84: UserWarning: The default mode, 'constant', will be changed to 'reflect' in skimage 0.15.\n",
      "  warn(\"The default mode, 'constant', will be changed to 'reflect' in \"\n",
      "C:\\Program Files\\Anaconda3\\lib\\site-packages\\skimage\\util\\dtype.py:122: UserWarning: Possible precision loss when converting from float64 to uint8\n",
      "  .format(dtypeobj_in, dtypeobj_out))\n",
      "C:\\Program Files\\Anaconda3\\lib\\site-packages\\skimage\\io\\_io.py:129: UserWarning: D:/svruchtel/PREPROCESSED_DATA/France_New_ByMeaningLarge_128_3dim\\AllTransport\\left_top\\003699.jpg is a low contrast image\n",
      "  warn('%s is a low contrast image' % fname)\n",
      "C:\\Program Files\\Anaconda3\\lib\\site-packages\\skimage\\io\\_io.py:129: UserWarning: D:/svruchtel/PREPROCESSED_DATA/France_New_ByMeaningLarge_128_3dim\\AllTransport\\left_top\\003716.jpg is a low contrast image\n",
      "  warn('%s is a low contrast image' % fname)\n",
      "C:\\Program Files\\Anaconda3\\lib\\site-packages\\skimage\\io\\_io.py:129: UserWarning: D:/svruchtel/PREPROCESSED_DATA/France_New_ByMeaningLarge_128_3dim\\AllTransport\\right_top\\003716.jpg is a low contrast image\n",
      "  warn('%s is a low contrast image' % fname)\n",
      "C:\\Program Files\\Anaconda3\\lib\\site-packages\\skimage\\io\\_io.py:129: UserWarning: D:/svruchtel/PREPROCESSED_DATA/France_New_ByMeaningLarge_128_3dim\\AllTransport\\left_top\\003718.jpg is a low contrast image\n",
      "  warn('%s is a low contrast image' % fname)\n",
      "C:\\Program Files\\Anaconda3\\lib\\site-packages\\skimage\\io\\_io.py:129: UserWarning: D:/svruchtel/PREPROCESSED_DATA/France_New_ByMeaningLarge_128_3dim\\AllTransport\\right_top\\003718.jpg is a low contrast image\n",
      "  warn('%s is a low contrast image' % fname)\n"
     ]
    },
    {
     "name": "stdout",
     "output_type": "stream",
     "text": [
      "Wall time: 28min 4s\n"
     ]
    }
   ],
   "source": [
    "%%time\n",
    "\n",
    "# the function seems to be ready, let's try to work with it\n",
    "make_5_images_for_all_dataset(source_directory=\"D:/svruchtel/DATA/France_New_ByMeaningLarge\",\n",
    "                             target_directory=\"D:/svruchtel/PREPROCESSED_DATA/France_New_ByMeaningLarge_128_3dim\",\n",
    "                             square_size=128)"
   ]
  },
  {
   "cell_type": "code",
   "execution_count": 109,
   "metadata": {
    "collapsed": false
   },
   "outputs": [
    {
     "name": "stderr",
     "output_type": "stream",
     "text": [
      "C:\\Program Files\\Anaconda3\\lib\\site-packages\\skimage\\transform\\_warps.py:84: UserWarning: The default mode, 'constant', will be changed to 'reflect' in skimage 0.15.\n",
      "  warn(\"The default mode, 'constant', will be changed to 'reflect' in \"\n",
      "C:\\Program Files\\Anaconda3\\lib\\site-packages\\skimage\\util\\dtype.py:122: UserWarning: Possible precision loss when converting from float64 to uint8\n",
      "  .format(dtypeobj_in, dtypeobj_out))\n",
      "C:\\Program Files\\Anaconda3\\lib\\site-packages\\skimage\\io\\_io.py:129: UserWarning: D:/svruchtel/PREPROCESSED_DATA/France_New_ByMeaningLarge_224_3dim\\AllTransport\\left_top\\003716.jpg is a low contrast image\n",
      "  warn('%s is a low contrast image' % fname)\n",
      "C:\\Program Files\\Anaconda3\\lib\\site-packages\\skimage\\io\\_io.py:129: UserWarning: D:/svruchtel/PREPROCESSED_DATA/France_New_ByMeaningLarge_224_3dim\\AllTransport\\right_top\\003716.jpg is a low contrast image\n",
      "  warn('%s is a low contrast image' % fname)\n",
      "C:\\Program Files\\Anaconda3\\lib\\site-packages\\skimage\\io\\_io.py:129: UserWarning: D:/svruchtel/PREPROCESSED_DATA/France_New_ByMeaningLarge_224_3dim\\AllTransport\\left_top\\003718.jpg is a low contrast image\n",
      "  warn('%s is a low contrast image' % fname)\n",
      "C:\\Program Files\\Anaconda3\\lib\\site-packages\\skimage\\io\\_io.py:129: UserWarning: D:/svruchtel/PREPROCESSED_DATA/France_New_ByMeaningLarge_224_3dim\\AllTransport\\right_top\\003718.jpg is a low contrast image\n",
      "  warn('%s is a low contrast image' % fname)\n"
     ]
    },
    {
     "name": "stdout",
     "output_type": "stream",
     "text": [
      "Wall time: 36min 46s\n"
     ]
    }
   ],
   "source": [
    "%%time\n",
    "\n",
    "# the function seems to be ready, let's try to work with it\n",
    "make_5_images_for_all_dataset(source_directory=\"D:/svruchtel/DATA/France_New_ByMeaningLarge\",\n",
    "                             target_directory=\"D:/svruchtel/PREPROCESSED_DATA/France_New_ByMeaningLarge_224_3dim\",\n",
    "                             square_size=224)"
   ]
  },
  {
   "cell_type": "code",
   "execution_count": null,
   "metadata": {
    "collapsed": true
   },
   "outputs": [],
   "source": []
  }
 ],
 "metadata": {
  "kernelspec": {
   "display_name": "Python [default]",
   "language": "python",
   "name": "python3"
  },
  "language_info": {
   "codemirror_mode": {
    "name": "ipython",
    "version": 3
   },
   "file_extension": ".py",
   "mimetype": "text/x-python",
   "name": "python",
   "nbconvert_exporter": "python",
   "pygments_lexer": "ipython3",
   "version": "3.5.2"
  }
 },
 "nbformat": 4,
 "nbformat_minor": 1
}
