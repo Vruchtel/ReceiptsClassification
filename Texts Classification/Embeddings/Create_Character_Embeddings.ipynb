{
 "cells": [
  {
   "cell_type": "code",
   "execution_count": 1,
   "metadata": {
    "collapsed": true
   },
   "outputs": [],
   "source": [
    "import numpy as np\n",
    "import os\n",
    "import math\n",
    "import pandas as pd"
   ]
  },
  {
   "cell_type": "code",
   "execution_count": 20,
   "metadata": {
    "collapsed": true
   },
   "outputs": [],
   "source": [
    "EMBEDDING_PATH = \"D:\\svruchtel\\EMBEDDINGS\\glove.840B.300d\\glove.840B.300d.txt\""
   ]
  },
  {
   "cell_type": "code",
   "execution_count": 53,
   "metadata": {
    "collapsed": false
   },
   "outputs": [
    {
     "name": "stdout",
     "output_type": "stream",
     "text": [
      "Wall time: 7min 29s\n"
     ]
    }
   ],
   "source": [
    "%%time\n",
    "character_embeddings = {}\n",
    "\n",
    "with open(EMBEDDING_PATH, 'r', encoding='utf-8') as emb:\n",
    "    #head = [next(emb) for _ in range(10)]\n",
    "    #print(head)\n",
    "    for line in emb:\n",
    "        line_split = line.strip().split(\" \")\n",
    "        word_emb = np.array(line_split[1:], dtype=float)\n",
    "        word = line_split[0]\n",
    "        \n",
    "        if word_emb.shape != (300,):\n",
    "            continue\n",
    "        \n",
    "        for char in word:\n",
    "            if ord(char) < 128:\n",
    "                if char in character_embeddings:\n",
    "                    character_embeddings[char] = (character_embeddings[char][0] + word_emb,\n",
    "                                                 character_embeddings[char][1] + 1)\n",
    "                else: \n",
    "                    character_embeddings[char] = (word_emb, 1)\n"
   ]
  },
  {
   "cell_type": "code",
   "execution_count": 62,
   "metadata": {
    "collapsed": false
   },
   "outputs": [],
   "source": [
    "CHARACTERS_EMBEDDING_PATH = \"D:\\svruchtel\\EMBEDDINGS\\glove.840B.300d\\glove.840B.300d-char.txt\"\n",
    "with open(CHARACTERS_EMBEDDING_PATH, 'w') as char_emb_file:\n",
    "    for char_emb in character_embeddings:\n",
    "        avg_vector = np.round(\n",
    "            (character_embeddings[char_emb][0] / character_embeddings[char_emb][1]), 6).tolist()\n",
    "        char_emb_file.write(char_emb + \" \" + \" \".join(str(x) for x in avg_vector) + \"\\n\")"
   ]
  },
  {
   "cell_type": "code",
   "execution_count": null,
   "metadata": {
    "collapsed": true
   },
   "outputs": [],
   "source": []
  }
 ],
 "metadata": {
  "anaconda-cloud": {},
  "kernelspec": {
   "display_name": "Python [default]",
   "language": "python",
   "name": "python3"
  },
  "language_info": {
   "codemirror_mode": {
    "name": "ipython",
    "version": 3
   },
   "file_extension": ".py",
   "mimetype": "text/x-python",
   "name": "python",
   "nbconvert_exporter": "python",
   "pygments_lexer": "ipython3",
   "version": "3.5.2"
  }
 },
 "nbformat": 4,
 "nbformat_minor": 1
}
